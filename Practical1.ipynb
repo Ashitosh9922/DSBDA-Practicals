{
 "cells": [
  {
   "cell_type": "code",
   "execution_count": 1,
   "id": "d0afb774-8a63-4b0c-8500-bffb3b7d821d",
   "metadata": {},
   "outputs": [],
   "source": [
    "import pandas as pd\n",
    "import numpy as np"
   ]
  },
  {
   "cell_type": "markdown",
   "id": "89dd921a-7240-435c-8f18-609102a6a9e2",
   "metadata": {},
   "source": [
    "## 2. Description of the Data and Source\n",
    "\n",
    "- **Dataset Name**: Titanic - Machine Learning from Disaster  \n",
    "- **Description**: This dataset contains information about the passengers aboard the Titanic, including features such as age, sex, ticket class, and whether or not the individual survived. The dataset is commonly used for binary classification problems and predictive modeling.\n",
    "\n",
    "- **Source URL**: [Kaggle Titanic Dataset](https://www.kaggle.com/c/titanic/data)\n",
    "\n"
   ]
  },
  {
   "cell_type": "code",
   "execution_count": 9,
   "id": "3f6eb5d7-2028-4a29-b454-562986902e33",
   "metadata": {},
   "outputs": [],
   "source": [
    "df = pd.read_csv(\"titanic.csv\")  # assuming the file is in your working directory"
   ]
  },
  {
   "cell_type": "code",
   "execution_count": 11,
   "id": "49b31623-c2e9-428b-a3de-784c245bab93",
   "metadata": {},
   "outputs": [
    {
     "data": {
      "text/html": [
       "<div>\n",
       "<style scoped>\n",
       "    .dataframe tbody tr th:only-of-type {\n",
       "        vertical-align: middle;\n",
       "    }\n",
       "\n",
       "    .dataframe tbody tr th {\n",
       "        vertical-align: top;\n",
       "    }\n",
       "\n",
       "    .dataframe thead th {\n",
       "        text-align: right;\n",
       "    }\n",
       "</style>\n",
       "<table border=\"1\" class=\"dataframe\">\n",
       "  <thead>\n",
       "    <tr style=\"text-align: right;\">\n",
       "      <th></th>\n",
       "      <th>PassengerId</th>\n",
       "      <th>Survived</th>\n",
       "      <th>Pclass</th>\n",
       "      <th>Name</th>\n",
       "      <th>Sex</th>\n",
       "      <th>Age</th>\n",
       "      <th>SibSp</th>\n",
       "      <th>Parch</th>\n",
       "      <th>Ticket</th>\n",
       "      <th>Fare</th>\n",
       "      <th>Cabin</th>\n",
       "      <th>Embarked</th>\n",
       "    </tr>\n",
       "  </thead>\n",
       "  <tbody>\n",
       "    <tr>\n",
       "      <th>0</th>\n",
       "      <td>1</td>\n",
       "      <td>0</td>\n",
       "      <td>3</td>\n",
       "      <td>Braund, Mr. Owen Harris</td>\n",
       "      <td>male</td>\n",
       "      <td>22.0</td>\n",
       "      <td>1</td>\n",
       "      <td>0</td>\n",
       "      <td>A/5 21171</td>\n",
       "      <td>7.2500</td>\n",
       "      <td>NaN</td>\n",
       "      <td>S</td>\n",
       "    </tr>\n",
       "    <tr>\n",
       "      <th>1</th>\n",
       "      <td>2</td>\n",
       "      <td>1</td>\n",
       "      <td>1</td>\n",
       "      <td>Cumings, Mrs. John Bradley (Florence Briggs Th...</td>\n",
       "      <td>female</td>\n",
       "      <td>38.0</td>\n",
       "      <td>1</td>\n",
       "      <td>0</td>\n",
       "      <td>PC 17599</td>\n",
       "      <td>71.2833</td>\n",
       "      <td>C85</td>\n",
       "      <td>C</td>\n",
       "    </tr>\n",
       "    <tr>\n",
       "      <th>2</th>\n",
       "      <td>3</td>\n",
       "      <td>1</td>\n",
       "      <td>3</td>\n",
       "      <td>Heikkinen, Miss. Laina</td>\n",
       "      <td>female</td>\n",
       "      <td>26.0</td>\n",
       "      <td>0</td>\n",
       "      <td>0</td>\n",
       "      <td>STON/O2. 3101282</td>\n",
       "      <td>7.9250</td>\n",
       "      <td>NaN</td>\n",
       "      <td>S</td>\n",
       "    </tr>\n",
       "    <tr>\n",
       "      <th>3</th>\n",
       "      <td>4</td>\n",
       "      <td>1</td>\n",
       "      <td>1</td>\n",
       "      <td>Futrelle, Mrs. Jacques Heath (Lily May Peel)</td>\n",
       "      <td>female</td>\n",
       "      <td>35.0</td>\n",
       "      <td>1</td>\n",
       "      <td>0</td>\n",
       "      <td>113803</td>\n",
       "      <td>53.1000</td>\n",
       "      <td>C123</td>\n",
       "      <td>S</td>\n",
       "    </tr>\n",
       "    <tr>\n",
       "      <th>4</th>\n",
       "      <td>5</td>\n",
       "      <td>0</td>\n",
       "      <td>3</td>\n",
       "      <td>Allen, Mr. William Henry</td>\n",
       "      <td>male</td>\n",
       "      <td>35.0</td>\n",
       "      <td>0</td>\n",
       "      <td>0</td>\n",
       "      <td>373450</td>\n",
       "      <td>8.0500</td>\n",
       "      <td>NaN</td>\n",
       "      <td>S</td>\n",
       "    </tr>\n",
       "  </tbody>\n",
       "</table>\n",
       "</div>"
      ],
      "text/plain": [
       "   PassengerId  Survived  Pclass  \\\n",
       "0            1         0       3   \n",
       "1            2         1       1   \n",
       "2            3         1       3   \n",
       "3            4         1       1   \n",
       "4            5         0       3   \n",
       "\n",
       "                                                Name     Sex   Age  SibSp  \\\n",
       "0                            Braund, Mr. Owen Harris    male  22.0      1   \n",
       "1  Cumings, Mrs. John Bradley (Florence Briggs Th...  female  38.0      1   \n",
       "2                             Heikkinen, Miss. Laina  female  26.0      0   \n",
       "3       Futrelle, Mrs. Jacques Heath (Lily May Peel)  female  35.0      1   \n",
       "4                           Allen, Mr. William Henry    male  35.0      0   \n",
       "\n",
       "   Parch            Ticket     Fare Cabin Embarked  \n",
       "0      0         A/5 21171   7.2500   NaN        S  \n",
       "1      0          PC 17599  71.2833   C85        C  \n",
       "2      0  STON/O2. 3101282   7.9250   NaN        S  \n",
       "3      0            113803  53.1000  C123        S  \n",
       "4      0            373450   8.0500   NaN        S  "
      ]
     },
     "execution_count": 11,
     "metadata": {},
     "output_type": "execute_result"
    }
   ],
   "source": [
    "df.head()"
   ]
  },
  {
   "cell_type": "code",
   "execution_count": 17,
   "id": "785dcd20-2082-4502-b86e-21290f060d3c",
   "metadata": {},
   "outputs": [
    {
     "name": "stdout",
     "output_type": "stream",
     "text": [
      "PassengerId      0\n",
      "Survived         0\n",
      "Pclass           0\n",
      "Name             0\n",
      "Sex              0\n",
      "Age            177\n",
      "SibSp            0\n",
      "Parch            0\n",
      "Ticket           0\n",
      "Fare             0\n",
      "Cabin          687\n",
      "Embarked         2\n",
      "dtype: int64\n"
     ]
    }
   ],
   "source": [
    "#Checking for missing values\n",
    "print(df.isnull().sum())\n"
   ]
  },
  {
   "cell_type": "code",
   "execution_count": 19,
   "id": "d468ecf7-b196-4dfa-ac15-9d876c85e572",
   "metadata": {},
   "outputs": [
    {
     "name": "stdout",
     "output_type": "stream",
     "text": [
      "        PassengerId    Survived      Pclass                     Name   Sex  \\\n",
      "count    891.000000  891.000000  891.000000                      891   891   \n",
      "unique          NaN         NaN         NaN                      891     2   \n",
      "top             NaN         NaN         NaN  Braund, Mr. Owen Harris  male   \n",
      "freq            NaN         NaN         NaN                        1   577   \n",
      "mean     446.000000    0.383838    2.308642                      NaN   NaN   \n",
      "std      257.353842    0.486592    0.836071                      NaN   NaN   \n",
      "min        1.000000    0.000000    1.000000                      NaN   NaN   \n",
      "25%      223.500000    0.000000    2.000000                      NaN   NaN   \n",
      "50%      446.000000    0.000000    3.000000                      NaN   NaN   \n",
      "75%      668.500000    1.000000    3.000000                      NaN   NaN   \n",
      "max      891.000000    1.000000    3.000000                      NaN   NaN   \n",
      "\n",
      "               Age       SibSp       Parch  Ticket        Fare    Cabin  \\\n",
      "count   714.000000  891.000000  891.000000     891  891.000000      204   \n",
      "unique         NaN         NaN         NaN     681         NaN      147   \n",
      "top            NaN         NaN         NaN  347082         NaN  B96 B98   \n",
      "freq           NaN         NaN         NaN       7         NaN        4   \n",
      "mean     29.699118    0.523008    0.381594     NaN   32.204208      NaN   \n",
      "std      14.526497    1.102743    0.806057     NaN   49.693429      NaN   \n",
      "min       0.420000    0.000000    0.000000     NaN    0.000000      NaN   \n",
      "25%      20.125000    0.000000    0.000000     NaN    7.910400      NaN   \n",
      "50%      28.000000    0.000000    0.000000     NaN   14.454200      NaN   \n",
      "75%      38.000000    1.000000    0.000000     NaN   31.000000      NaN   \n",
      "max      80.000000    8.000000    6.000000     NaN  512.329200      NaN   \n",
      "\n",
      "       Embarked  \n",
      "count       889  \n",
      "unique        3  \n",
      "top           S  \n",
      "freq        644  \n",
      "mean        NaN  \n",
      "std         NaN  \n",
      "min         NaN  \n",
      "25%         NaN  \n",
      "50%         NaN  \n",
      "75%         NaN  \n",
      "max         NaN  \n"
     ]
    }
   ],
   "source": [
    "#Basic Statistics\n",
    "print(df.describe(include='all'))#Quantitative + Categorical Variables"
   ]
  },
  {
   "cell_type": "code",
   "execution_count": 23,
   "id": "47a795d5-0f16-4726-8eae-f3c4499ba8ae",
   "metadata": {},
   "outputs": [
    {
     "data": {
      "text/plain": [
       "(891, 12)"
      ]
     },
     "execution_count": 23,
     "metadata": {},
     "output_type": "execute_result"
    }
   ],
   "source": [
    "# Dimensions of the DataFrame\n",
    "df.shape"
   ]
  },
  {
   "cell_type": "code",
   "execution_count": 25,
   "id": "45163b3a-196f-47fb-843a-f5d840f81e93",
   "metadata": {},
   "outputs": [
    {
     "data": {
      "text/plain": [
       "PassengerId      int64\n",
       "Survived         int64\n",
       "Pclass           int64\n",
       "Name            object\n",
       "Sex             object\n",
       "Age            float64\n",
       "SibSp            int64\n",
       "Parch            int64\n",
       "Ticket          object\n",
       "Fare           float64\n",
       "Cabin           object\n",
       "Embarked        object\n",
       "dtype: object"
      ]
     },
     "execution_count": 25,
     "metadata": {},
     "output_type": "execute_result"
    }
   ],
   "source": [
    "#Variable Description & Types\n",
    "df.dtypes"
   ]
  },
  {
   "cell_type": "code",
   "execution_count": 17,
   "id": "e12f204d-04ab-48e6-8e5f-8bd5caea723b",
   "metadata": {},
   "outputs": [],
   "source": [
    "#Convert Pclass (which is currently int64) into string type\n",
    "df['Pclass'] = df['Pclass'].astype(str)\n",
    "#Before:\n",
    "#Pclass    int64\n",
    "#After:\n",
    "#Pclass    object  # (because string type is stored as object in pandas)\"\"\""
   ]
  },
  {
   "cell_type": "code",
   "execution_count": null,
   "id": "db3fd96c-09bf-413e-ae2b-a1c6c9aaea09",
   "metadata": {},
   "outputs": [],
   "source": [
    "\n",
    "#Convert Categorical to Numerical Variables (3 Methods)\n"
   ]
  },
  {
   "cell_type": "code",
   "execution_count": 19,
   "id": "f9b7fade-e767-4119-a4d3-426004935e93",
   "metadata": {},
   "outputs": [],
   "source": [
    "#1.Label Encoding (Sex)\n",
    "df['Sex_encoded'] = df['Sex'].map({'male': 0, 'female': 1})\n"
   ]
  },
  {
   "cell_type": "code",
   "execution_count": 21,
   "id": "14366f1f-59a4-4737-82f8-8977175f82ba",
   "metadata": {},
   "outputs": [
    {
     "name": "stdout",
     "output_type": "stream",
     "text": [
      "0      0\n",
      "1      1\n",
      "2      1\n",
      "3      1\n",
      "4      0\n",
      "      ..\n",
      "886    0\n",
      "887    1\n",
      "888    1\n",
      "889    0\n",
      "890    0\n",
      "Name: Sex_encoded, Length: 891, dtype: int64\n"
     ]
    }
   ],
   "source": [
    "#To print the newly created Sex_encoded column in your DataFrame after encoding, you can use:\n",
    "\n",
    "print(df['Sex_encoded'])"
   ]
  },
  {
   "cell_type": "code",
   "execution_count": 35,
   "id": "cc959640-8b92-41b1-8aa5-4a935deae5bf",
   "metadata": {},
   "outputs": [
    {
     "name": "stdout",
     "output_type": "stream",
     "text": [
      "        Sex  Sex_encoded\n",
      "0      male            0\n",
      "1    female            1\n",
      "2    female            1\n",
      "3    female            1\n",
      "4      male            0\n",
      "..      ...          ...\n",
      "886    male            0\n",
      "887  female            1\n",
      "888  female            1\n",
      "889    male            0\n",
      "890    male            0\n",
      "\n",
      "[891 rows x 2 columns]\n"
     ]
    }
   ],
   "source": [
    "#Or, to view it alongside the original Sex column for comparison:\n",
    "\n",
    "print(df[['Sex', 'Sex_encoded']])"
   ]
  },
  {
   "cell_type": "code",
   "execution_count": 23,
   "id": "46a65795-d68a-4d7d-bc3e-12e0912f0a31",
   "metadata": {},
   "outputs": [],
   "source": [
    "#b. One-Hot Encoding (Embarked)\n",
    "df = pd.get_dummies(df, columns=['Embarked'], drop_first=True)"
   ]
  },
  {
   "cell_type": "code",
   "execution_count": 27,
   "id": "a79cb3b5-5bd8-4e6a-9666-bddc89ee925e",
   "metadata": {},
   "outputs": [
    {
     "name": "stdout",
     "output_type": "stream",
     "text": [
      "   PassengerId  Survived Pclass  \\\n",
      "0            1         0      3   \n",
      "1            2         1      1   \n",
      "2            3         1      3   \n",
      "3            4         1      1   \n",
      "4            5         0      3   \n",
      "\n",
      "                                                Name     Sex   Age  SibSp  \\\n",
      "0                            Braund, Mr. Owen Harris    male  22.0      1   \n",
      "1  Cumings, Mrs. John Bradley (Florence Briggs Th...  female  38.0      1   \n",
      "2                             Heikkinen, Miss. Laina  female  26.0      0   \n",
      "3       Futrelle, Mrs. Jacques Heath (Lily May Peel)  female  35.0      1   \n",
      "4                           Allen, Mr. William Henry    male  35.0      0   \n",
      "\n",
      "   Parch            Ticket     Fare Cabin  Sex_encoded  Embarked_Q  Embarked_S  \n",
      "0      0         A/5 21171   7.2500   NaN            0       False        True  \n",
      "1      0          PC 17599  71.2833   C85            1       False       False  \n",
      "2      0  STON/O2. 3101282   7.9250   NaN            1       False        True  \n",
      "3      0            113803  53.1000  C123            1       False        True  \n",
      "4      0            373450   8.0500   NaN            0       False        True  \n"
     ]
    }
   ],
   "source": [
    "print(df.head())\n"
   ]
  },
  {
   "cell_type": "markdown",
   "id": "2f7d0885-6ffb-469c-8d10-4b9e7cdaf141",
   "metadata": {},
   "source": [
    "##So, if:\n",
    "\n",
    "both are 0(False) → Embarked was C\n",
    "\n",
    "only Embarked_S = 1(True) → Embarked was S\n",
    "\n",
    "only Embarked_Q = 1(True) → Embarked was Q"
   ]
  },
  {
   "cell_type": "code",
   "execution_count": null,
   "id": "28f7799c-7f73-440b-a1cd-defdb56b097e",
   "metadata": {},
   "outputs": [],
   "source": []
  }
 ],
 "metadata": {
  "kernelspec": {
   "display_name": "Python 3 (ipykernel)",
   "language": "python",
   "name": "python3"
  },
  "language_info": {
   "codemirror_mode": {
    "name": "ipython",
    "version": 3
   },
   "file_extension": ".py",
   "mimetype": "text/x-python",
   "name": "python",
   "nbconvert_exporter": "python",
   "pygments_lexer": "ipython3",
   "version": "3.12.4"
  }
 },
 "nbformat": 4,
 "nbformat_minor": 5
}
