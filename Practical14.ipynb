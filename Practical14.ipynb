{
 "cells": [
  {
   "cell_type": "code",
   "execution_count": 1,
   "id": "85ceb3d6-022a-4e14-bee2-502cf8d60f39",
   "metadata": {},
   "outputs": [],
   "source": [
    "import pandas as pd\n",
    "import numpy as np"
   ]
  },
  {
   "cell_type": "code",
   "execution_count": 17,
   "id": "3af1ab44-b55c-4e17-8dd3-2125d1d36ecf",
   "metadata": {},
   "outputs": [],
   "source": [
    "df=pd.read_csv(\"1. Weather Data.csv\")"
   ]
  },
  {
   "cell_type": "code",
   "execution_count": 19,
   "id": "c4699047-c89b-4024-83f5-1c954638dfe8",
   "metadata": {
    "scrolled": true
   },
   "outputs": [
    {
     "data": {
      "text/html": [
       "<div>\n",
       "<style scoped>\n",
       "    .dataframe tbody tr th:only-of-type {\n",
       "        vertical-align: middle;\n",
       "    }\n",
       "\n",
       "    .dataframe tbody tr th {\n",
       "        vertical-align: top;\n",
       "    }\n",
       "\n",
       "    .dataframe thead th {\n",
       "        text-align: right;\n",
       "    }\n",
       "</style>\n",
       "<table border=\"1\" class=\"dataframe\">\n",
       "  <thead>\n",
       "    <tr style=\"text-align: right;\">\n",
       "      <th></th>\n",
       "      <th>Date/Time</th>\n",
       "      <th>Temp_C</th>\n",
       "      <th>Dew Point Temp_C</th>\n",
       "      <th>Rel Hum_%</th>\n",
       "      <th>Wind Speed_km/h</th>\n",
       "      <th>Visibility_km</th>\n",
       "      <th>Press_kPa</th>\n",
       "      <th>Weather</th>\n",
       "    </tr>\n",
       "  </thead>\n",
       "  <tbody>\n",
       "    <tr>\n",
       "      <th>0</th>\n",
       "      <td>1/1/2012 0:00</td>\n",
       "      <td>-1.8</td>\n",
       "      <td>-3.9</td>\n",
       "      <td>86</td>\n",
       "      <td>4</td>\n",
       "      <td>8.0</td>\n",
       "      <td>101.24</td>\n",
       "      <td>Fog</td>\n",
       "    </tr>\n",
       "    <tr>\n",
       "      <th>1</th>\n",
       "      <td>1/1/2012 1:00</td>\n",
       "      <td>-1.8</td>\n",
       "      <td>-3.7</td>\n",
       "      <td>87</td>\n",
       "      <td>4</td>\n",
       "      <td>8.0</td>\n",
       "      <td>101.24</td>\n",
       "      <td>Fog</td>\n",
       "    </tr>\n",
       "    <tr>\n",
       "      <th>2</th>\n",
       "      <td>1/1/2012 2:00</td>\n",
       "      <td>-1.8</td>\n",
       "      <td>-3.4</td>\n",
       "      <td>89</td>\n",
       "      <td>7</td>\n",
       "      <td>4.0</td>\n",
       "      <td>101.26</td>\n",
       "      <td>Freezing Drizzle,Fog</td>\n",
       "    </tr>\n",
       "    <tr>\n",
       "      <th>3</th>\n",
       "      <td>1/1/2012 3:00</td>\n",
       "      <td>-1.5</td>\n",
       "      <td>-3.2</td>\n",
       "      <td>88</td>\n",
       "      <td>6</td>\n",
       "      <td>4.0</td>\n",
       "      <td>101.27</td>\n",
       "      <td>Freezing Drizzle,Fog</td>\n",
       "    </tr>\n",
       "    <tr>\n",
       "      <th>4</th>\n",
       "      <td>1/1/2012 4:00</td>\n",
       "      <td>-1.5</td>\n",
       "      <td>-3.3</td>\n",
       "      <td>88</td>\n",
       "      <td>7</td>\n",
       "      <td>4.8</td>\n",
       "      <td>101.23</td>\n",
       "      <td>Fog</td>\n",
       "    </tr>\n",
       "  </tbody>\n",
       "</table>\n",
       "</div>"
      ],
      "text/plain": [
       "       Date/Time  Temp_C  Dew Point Temp_C  Rel Hum_%  Wind Speed_km/h  \\\n",
       "0  1/1/2012 0:00    -1.8              -3.9         86                4   \n",
       "1  1/1/2012 1:00    -1.8              -3.7         87                4   \n",
       "2  1/1/2012 2:00    -1.8              -3.4         89                7   \n",
       "3  1/1/2012 3:00    -1.5              -3.2         88                6   \n",
       "4  1/1/2012 4:00    -1.5              -3.3         88                7   \n",
       "\n",
       "   Visibility_km  Press_kPa               Weather  \n",
       "0            8.0     101.24                   Fog  \n",
       "1            8.0     101.24                   Fog  \n",
       "2            4.0     101.26  Freezing Drizzle,Fog  \n",
       "3            4.0     101.27  Freezing Drizzle,Fog  \n",
       "4            4.8     101.23                   Fog  "
      ]
     },
     "execution_count": 19,
     "metadata": {},
     "output_type": "execute_result"
    }
   ],
   "source": [
    "df.head()"
   ]
  },
  {
   "cell_type": "code",
   "execution_count": 21,
   "id": "7a7ba865-d1a1-448b-b9f9-33da647f0b96",
   "metadata": {},
   "outputs": [
    {
     "data": {
      "text/html": [
       "<div>\n",
       "<style scoped>\n",
       "    .dataframe tbody tr th:only-of-type {\n",
       "        vertical-align: middle;\n",
       "    }\n",
       "\n",
       "    .dataframe tbody tr th {\n",
       "        vertical-align: top;\n",
       "    }\n",
       "\n",
       "    .dataframe thead th {\n",
       "        text-align: right;\n",
       "    }\n",
       "</style>\n",
       "<table border=\"1\" class=\"dataframe\">\n",
       "  <thead>\n",
       "    <tr style=\"text-align: right;\">\n",
       "      <th></th>\n",
       "      <th>Temp_C</th>\n",
       "      <th>Dew Point Temp_C</th>\n",
       "      <th>Rel Hum_%</th>\n",
       "      <th>Wind Speed_km/h</th>\n",
       "      <th>Visibility_km</th>\n",
       "      <th>Press_kPa</th>\n",
       "    </tr>\n",
       "  </thead>\n",
       "  <tbody>\n",
       "    <tr>\n",
       "      <th>count</th>\n",
       "      <td>8784.000000</td>\n",
       "      <td>8784.000000</td>\n",
       "      <td>8784.000000</td>\n",
       "      <td>8784.000000</td>\n",
       "      <td>8784.000000</td>\n",
       "      <td>8784.000000</td>\n",
       "    </tr>\n",
       "    <tr>\n",
       "      <th>mean</th>\n",
       "      <td>8.798144</td>\n",
       "      <td>2.555294</td>\n",
       "      <td>67.431694</td>\n",
       "      <td>14.945469</td>\n",
       "      <td>27.664447</td>\n",
       "      <td>101.051623</td>\n",
       "    </tr>\n",
       "    <tr>\n",
       "      <th>std</th>\n",
       "      <td>11.687883</td>\n",
       "      <td>10.883072</td>\n",
       "      <td>16.918881</td>\n",
       "      <td>8.688696</td>\n",
       "      <td>12.622688</td>\n",
       "      <td>0.844005</td>\n",
       "    </tr>\n",
       "    <tr>\n",
       "      <th>min</th>\n",
       "      <td>-23.300000</td>\n",
       "      <td>-28.500000</td>\n",
       "      <td>18.000000</td>\n",
       "      <td>0.000000</td>\n",
       "      <td>0.200000</td>\n",
       "      <td>97.520000</td>\n",
       "    </tr>\n",
       "    <tr>\n",
       "      <th>25%</th>\n",
       "      <td>0.100000</td>\n",
       "      <td>-5.900000</td>\n",
       "      <td>56.000000</td>\n",
       "      <td>9.000000</td>\n",
       "      <td>24.100000</td>\n",
       "      <td>100.560000</td>\n",
       "    </tr>\n",
       "    <tr>\n",
       "      <th>50%</th>\n",
       "      <td>9.300000</td>\n",
       "      <td>3.300000</td>\n",
       "      <td>68.000000</td>\n",
       "      <td>13.000000</td>\n",
       "      <td>25.000000</td>\n",
       "      <td>101.070000</td>\n",
       "    </tr>\n",
       "    <tr>\n",
       "      <th>75%</th>\n",
       "      <td>18.800000</td>\n",
       "      <td>11.800000</td>\n",
       "      <td>81.000000</td>\n",
       "      <td>20.000000</td>\n",
       "      <td>25.000000</td>\n",
       "      <td>101.590000</td>\n",
       "    </tr>\n",
       "    <tr>\n",
       "      <th>max</th>\n",
       "      <td>33.000000</td>\n",
       "      <td>24.400000</td>\n",
       "      <td>100.000000</td>\n",
       "      <td>83.000000</td>\n",
       "      <td>48.300000</td>\n",
       "      <td>103.650000</td>\n",
       "    </tr>\n",
       "  </tbody>\n",
       "</table>\n",
       "</div>"
      ],
      "text/plain": [
       "            Temp_C  Dew Point Temp_C    Rel Hum_%  Wind Speed_km/h  \\\n",
       "count  8784.000000       8784.000000  8784.000000      8784.000000   \n",
       "mean      8.798144          2.555294    67.431694        14.945469   \n",
       "std      11.687883         10.883072    16.918881         8.688696   \n",
       "min     -23.300000        -28.500000    18.000000         0.000000   \n",
       "25%       0.100000         -5.900000    56.000000         9.000000   \n",
       "50%       9.300000          3.300000    68.000000        13.000000   \n",
       "75%      18.800000         11.800000    81.000000        20.000000   \n",
       "max      33.000000         24.400000   100.000000        83.000000   \n",
       "\n",
       "       Visibility_km    Press_kPa  \n",
       "count    8784.000000  8784.000000  \n",
       "mean       27.664447   101.051623  \n",
       "std        12.622688     0.844005  \n",
       "min         0.200000    97.520000  \n",
       "25%        24.100000   100.560000  \n",
       "50%        25.000000   101.070000  \n",
       "75%        25.000000   101.590000  \n",
       "max        48.300000   103.650000  "
      ]
     },
     "execution_count": 21,
     "metadata": {},
     "output_type": "execute_result"
    }
   ],
   "source": [
    "df.describe()"
   ]
  },
  {
   "cell_type": "code",
   "execution_count": 29,
   "id": "e8bb33df-b8ca-46fc-8742-e0e58fea9efb",
   "metadata": {},
   "outputs": [],
   "source": [
    "# Convert 'Date/Time' to datetime format for easier manipulation\n",
    "df['Date/Time'] = pd.to_datetime(df['Date/Time'], format='%d/%m/%Y %H:%M')\n"
   ]
  },
  {
   "cell_type": "code",
   "execution_count": 49,
   "id": "ace58672-44a8-4562-b058-844ff2939a5b",
   "metadata": {},
   "outputs": [],
   "source": [
    "# Extract Year and Month\n",
    "df['Year'] = df['Date/Time'].dt.year\n",
    "df['Month'] = df['Date/Time'].dt.month\n",
    "df['Day'] = df['Date/Time'].dt.day\n"
   ]
  },
  {
   "cell_type": "code",
   "execution_count": 51,
   "id": "cc476ffd-88e2-4c1c-8edd-ecd3d8dad16a",
   "metadata": {},
   "outputs": [],
   "source": [
    "# Calculate Daily averages\n",
    "daily_avg = df.groupby(['Year', 'Month', 'Day'])[['Temp_C', 'Dew Point Temp_C', 'Wind Speed_km/h']].mean()"
   ]
  },
  {
   "cell_type": "code",
   "execution_count": 53,
   "id": "fe57750d-ea92-4d3e-b460-ac7737ce6dd9",
   "metadata": {},
   "outputs": [
    {
     "name": "stdout",
     "output_type": "stream",
     "text": [
      "\n",
      "Daily Weather Summary (Avg Temperature, Dew Point, Wind Speed):\n",
      "                   Temp_C  Dew Point Temp_C  Wind Speed_km/h\n",
      "Year Month Day                                              \n",
      "2012 1     1     0.629167         -1.450000        12.666667\n",
      "           2     0.041667         -6.200000        31.416667\n",
      "           3   -14.416667        -21.537500        22.041667\n",
      "           4   -13.645833        -19.250000        10.500000\n",
      "           5    -6.750000        -11.416667        12.125000\n",
      "...                   ...               ...              ...\n",
      "     12    27   -5.833333         -7.387500        34.833333\n",
      "           28   -6.775000         -9.175000        17.916667\n",
      "           29  -11.345833        -12.841667        14.625000\n",
      "           30  -11.370833        -14.179167        21.833333\n",
      "           31   -5.604167         -7.766667        12.916667\n",
      "\n",
      "[366 rows x 3 columns]\n"
     ]
    }
   ],
   "source": [
    "# Print daily summary\n",
    "print(\"\\nDaily Weather Summary (Avg Temperature, Dew Point, Wind Speed):\")\n",
    "print(daily_avg)"
   ]
  },
  {
   "cell_type": "code",
   "execution_count": 37,
   "id": "0b80a7bc-f1a2-4de3-bebf-ef069b0560fb",
   "metadata": {},
   "outputs": [],
   "source": [
    "# Calculate Year-wise averages\n",
    "yearly_avg = df.groupby('Year')[['Temp_C', 'Dew Point Temp_C', 'Wind Speed_km/h']].mean()"
   ]
  },
  {
   "cell_type": "code",
   "execution_count": 41,
   "id": "d273e62e-8b9e-4c3c-9399-15649013b493",
   "metadata": {},
   "outputs": [],
   "source": [
    "# Calculate Month-wise averages\n",
    "monthly_avg = df.groupby('Month')[['Temp_C', 'Dew Point Temp_C', 'Wind Speed_km/h']].mean()"
   ]
  },
  {
   "cell_type": "code",
   "execution_count": 43,
   "id": "85718739-a87a-4d9f-8196-0332bd067ba7",
   "metadata": {},
   "outputs": [
    {
     "name": "stdout",
     "output_type": "stream",
     "text": [
      "\n",
      "Yearly Average for Temperature, Dew Point, and Wind Speed:\n",
      "        Temp_C  Dew Point Temp_C  Wind Speed_km/h\n",
      "Year                                             \n",
      "2012  8.798144          2.555294        14.945469\n"
     ]
    }
   ],
   "source": [
    "# Print the results\n",
    "print(\"\\nYearly Average for Temperature, Dew Point, and Wind Speed:\")\n",
    "print(yearly_avg)"
   ]
  },
  {
   "cell_type": "code",
   "execution_count": 45,
   "id": "8b01f9bc-cd0d-4ac2-bf56-d46a7e4989ac",
   "metadata": {},
   "outputs": [
    {
     "name": "stdout",
     "output_type": "stream",
     "text": [
      "\n",
      "Monthly Average for Temperature, Dew Point, and Wind Speed:\n",
      "          Temp_C  Dew Point Temp_C  Wind Speed_km/h\n",
      "Month                                              \n",
      "1      -7.371505        -12.294758        18.108871\n",
      "2      -4.225000         -9.221695        14.837644\n",
      "3       3.121237         -3.488575        14.514785\n",
      "4       7.009306         -1.934583        17.369444\n",
      "5      16.237769          8.080780        12.846774\n",
      "6      20.134028         11.738056        14.681944\n",
      "7      22.790054         14.595430        11.887097\n",
      "8      22.279301         15.644758        13.931452\n",
      "9      16.484444         10.757917        14.108333\n",
      "10     10.954973          6.533468        15.475806\n",
      "11      0.931389         -4.179306        13.973611\n",
      "12     -3.306317         -6.129032        17.614247\n"
     ]
    }
   ],
   "source": [
    "print(\"\\nMonthly Average for Temperature, Dew Point, and Wind Speed:\")\n",
    "print(monthly_avg)"
   ]
  },
  {
   "cell_type": "code",
   "execution_count": 55,
   "id": "28b496c5-7502-4d17-b05b-b6b84b14ad4b",
   "metadata": {},
   "outputs": [],
   "source": [
    "# Calculate additional statistics\n",
    "# For example: Find the overall average for temperature, dew point, and wind speed\n",
    "overall_avg = df[['Temp_C', 'Dew Point Temp_C', 'Wind Speed_km/h']].mean()\n",
    "\n"
   ]
  },
  {
   "cell_type": "code",
   "execution_count": 57,
   "id": "4ef34612-2f26-4616-a7ab-2727b7bbbddb",
   "metadata": {},
   "outputs": [
    {
     "name": "stdout",
     "output_type": "stream",
     "text": [
      "\n",
      "Overall Average Temperature, Dew Point, and Wind Speed:\n",
      "Temp_C               8.798144\n",
      "Dew Point Temp_C     2.555294\n",
      "Wind Speed_km/h     14.945469\n",
      "dtype: float64\n"
     ]
    }
   ],
   "source": [
    "\n",
    "print(\"\\nOverall Average Temperature, Dew Point, and Wind Speed:\")\n",
    "print(overall_avg)"
   ]
  },
  {
   "cell_type": "code",
   "execution_count": 59,
   "id": "96d7272a-4504-4398-9735-054387f4cb1b",
   "metadata": {},
   "outputs": [
    {
     "name": "stdout",
     "output_type": "stream",
     "text": [
      "\n",
      "Average for January 2012:\n",
      "Temp_C              -7.371505\n",
      "Dew Point Temp_C   -12.294758\n",
      "Wind Speed_km/h     18.108871\n",
      "dtype: float64\n"
     ]
    }
   ],
   "source": [
    "# 2. For a specific month (e.g., January 2012)\n",
    "specific_month = df[df['Month'] == 1]  # Filter by month (January)\n",
    "\n",
    "# Calculate the average for the specific month\n",
    "specific_month_avg = specific_month[['Temp_C', 'Dew Point Temp_C', 'Wind Speed_km/h']].mean()\n",
    "\n",
    "# Print the average for the specific month\n",
    "print(\"\\nAverage for January 2012:\")\n",
    "print(specific_month_avg)"
   ]
  },
  {
   "cell_type": "code",
   "execution_count": 61,
   "id": "0092994a-0155-4451-82dc-8e76be95daba",
   "metadata": {},
   "outputs": [
    {
     "name": "stdout",
     "output_type": "stream",
     "text": [
      "\n",
      "Average for January 11, 2012:\n",
      "Temp_C              -9.5\n",
      "Dew Point Temp_C   -16.8\n",
      "Wind Speed_km/h     17.0\n",
      "dtype: float64\n"
     ]
    }
   ],
   "source": [
    "# 1. For a specific day (e.g., January 11, 2012)\n",
    "specific_day = df[df['Date/Time'] == '2012-01-11']\n",
    "\n",
    "# Calculate the average for the specific day\n",
    "specific_day_avg = specific_day[['Temp_C', 'Dew Point Temp_C', 'Wind Speed_km/h']].mean()\n",
    "\n",
    "# Print the average for the specific day\n",
    "print(\"\\nAverage for January 11, 2012:\")\n",
    "print(specific_day_avg)"
   ]
  },
  {
   "cell_type": "code",
   "execution_count": null,
   "id": "890e9ce6-8c7b-472f-9d65-6c952fd700fe",
   "metadata": {},
   "outputs": [],
   "source": []
  }
 ],
 "metadata": {
  "kernelspec": {
   "display_name": "Python 3 (ipykernel)",
   "language": "python",
   "name": "python3"
  },
  "language_info": {
   "codemirror_mode": {
    "name": "ipython",
    "version": 3
   },
   "file_extension": ".py",
   "mimetype": "text/x-python",
   "name": "python",
   "nbconvert_exporter": "python",
   "pygments_lexer": "ipython3",
   "version": "3.12.4"
  }
 },
 "nbformat": 4,
 "nbformat_minor": 5
}
