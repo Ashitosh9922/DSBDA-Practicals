{
 "cells": [
  {
   "cell_type": "code",
   "execution_count": 1,
   "id": "4f7e3fbf-baf4-4847-ad90-3f026fed84ec",
   "metadata": {},
   "outputs": [],
   "source": [
    "import pandas as pd\n",
    "import numpy as np\n"
   ]
  },
  {
   "cell_type": "code",
   "execution_count": 103,
   "id": "430dd619-86e6-460b-8880-3d79f306767c",
   "metadata": {},
   "outputs": [],
   "source": [
    "df=pd.read_csv(\"iris.csv\")"
   ]
  },
  {
   "cell_type": "markdown",
   "id": "db281f54-254b-44d3-bf3c-859eb20ce348",
   "metadata": {},
   "source": [
    "### Task 1: Provide Summary Statistics (mean, median, minimum, maximum, standard deviation) for a dataset grouped by a categorical variable.We will group the Iris dataset by the species and then calculate summary statistics for the numeric variables (sepal length, sepal width, petal length, petal width)."
   ]
  },
  {
   "cell_type": "code",
   "execution_count": 105,
   "id": "bb617456-d98f-4e30-b07f-d7b79149652b",
   "metadata": {},
   "outputs": [
    {
     "data": {
      "text/html": [
       "<div>\n",
       "<style scoped>\n",
       "    .dataframe tbody tr th:only-of-type {\n",
       "        vertical-align: middle;\n",
       "    }\n",
       "\n",
       "    .dataframe tbody tr th {\n",
       "        vertical-align: top;\n",
       "    }\n",
       "\n",
       "    .dataframe thead th {\n",
       "        text-align: right;\n",
       "    }\n",
       "</style>\n",
       "<table border=\"1\" class=\"dataframe\">\n",
       "  <thead>\n",
       "    <tr style=\"text-align: right;\">\n",
       "      <th></th>\n",
       "      <th>Id</th>\n",
       "      <th>SepalLengthCm</th>\n",
       "      <th>SepalWidthCm</th>\n",
       "      <th>PetalLengthCm</th>\n",
       "      <th>PetalWidthCm</th>\n",
       "      <th>Species</th>\n",
       "    </tr>\n",
       "  </thead>\n",
       "  <tbody>\n",
       "    <tr>\n",
       "      <th>0</th>\n",
       "      <td>1</td>\n",
       "      <td>5.1</td>\n",
       "      <td>3.5</td>\n",
       "      <td>1.4</td>\n",
       "      <td>0.2</td>\n",
       "      <td>Iris-setosa</td>\n",
       "    </tr>\n",
       "    <tr>\n",
       "      <th>1</th>\n",
       "      <td>2</td>\n",
       "      <td>4.9</td>\n",
       "      <td>3.0</td>\n",
       "      <td>1.4</td>\n",
       "      <td>0.2</td>\n",
       "      <td>Iris-setosa</td>\n",
       "    </tr>\n",
       "    <tr>\n",
       "      <th>2</th>\n",
       "      <td>3</td>\n",
       "      <td>4.7</td>\n",
       "      <td>3.2</td>\n",
       "      <td>1.3</td>\n",
       "      <td>0.2</td>\n",
       "      <td>Iris-setosa</td>\n",
       "    </tr>\n",
       "    <tr>\n",
       "      <th>3</th>\n",
       "      <td>4</td>\n",
       "      <td>4.6</td>\n",
       "      <td>3.1</td>\n",
       "      <td>1.5</td>\n",
       "      <td>0.2</td>\n",
       "      <td>Iris-setosa</td>\n",
       "    </tr>\n",
       "    <tr>\n",
       "      <th>4</th>\n",
       "      <td>5</td>\n",
       "      <td>5.0</td>\n",
       "      <td>3.6</td>\n",
       "      <td>1.4</td>\n",
       "      <td>0.2</td>\n",
       "      <td>Iris-setosa</td>\n",
       "    </tr>\n",
       "  </tbody>\n",
       "</table>\n",
       "</div>"
      ],
      "text/plain": [
       "   Id  SepalLengthCm  SepalWidthCm  PetalLengthCm  PetalWidthCm      Species\n",
       "0   1            5.1           3.5            1.4           0.2  Iris-setosa\n",
       "1   2            4.9           3.0            1.4           0.2  Iris-setosa\n",
       "2   3            4.7           3.2            1.3           0.2  Iris-setosa\n",
       "3   4            4.6           3.1            1.5           0.2  Iris-setosa\n",
       "4   5            5.0           3.6            1.4           0.2  Iris-setosa"
      ]
     },
     "execution_count": 105,
     "metadata": {},
     "output_type": "execute_result"
    }
   ],
   "source": [
    "df.head()"
   ]
  },
  {
   "cell_type": "code",
   "execution_count": 109,
   "id": "107891c8-e60b-45e5-a0ac-e42eb14a4989",
   "metadata": {},
   "outputs": [
    {
     "data": {
      "text/plain": [
       "(150, 6)"
      ]
     },
     "execution_count": 109,
     "metadata": {},
     "output_type": "execute_result"
    }
   ],
   "source": [
    "df.shape"
   ]
  },
  {
   "cell_type": "code",
   "execution_count": 61,
   "id": "8cc084b0-dc7d-4792-b0ff-e1f7ec5a8449",
   "metadata": {},
   "outputs": [],
   "source": [
    "# Group the dataset by the categorical variable 'species'\n",
    "grouped = df.groupby('Species')"
   ]
  },
  {
   "cell_type": "code",
   "execution_count": 111,
   "id": "42efe556-da16-4c26-9b6b-39552f49fc91",
   "metadata": {},
   "outputs": [
    {
     "name": "stdout",
     "output_type": "stream",
     "text": [
      "                SepalLengthCm                            SepalWidthCm         \\\n",
      "                         mean median  min  max       std         mean median   \n",
      "Species                                                                        \n",
      "Iris-setosa             5.006    5.0  4.3  5.8  0.352490        3.418    3.4   \n",
      "Iris-versicolor         5.936    5.9  4.9  7.0  0.516171        2.770    2.8   \n",
      "Iris-virginica          6.588    6.5  4.9  7.9  0.635880        2.974    3.0   \n",
      "\n",
      "                                    PetalLengthCm                             \\\n",
      "                 min  max       std          mean median  min  max       std   \n",
      "Species                                                                        \n",
      "Iris-setosa      2.3  4.4  0.381024         1.464   1.50  1.0  1.9  0.173511   \n",
      "Iris-versicolor  2.0  3.4  0.313798         4.260   4.35  3.0  5.1  0.469911   \n",
      "Iris-virginica   2.2  3.8  0.322497         5.552   5.55  4.5  6.9  0.551895   \n",
      "\n",
      "                PetalWidthCm                             \n",
      "                        mean median  min  max       std  \n",
      "Species                                                  \n",
      "Iris-setosa            0.244    0.2  0.1  0.6  0.107210  \n",
      "Iris-versicolor        1.326    1.3  1.0  1.8  0.197753  \n",
      "Iris-virginica         2.026    2.0  1.4  2.5  0.274650  \n"
     ]
    }
   ],
   "source": [
    "# Calculate summary statistics (mean, median, min, max, std) for the numeric columns\n",
    "summary_stats = grouped.agg({\n",
    "    'SepalLengthCm': ['mean', 'median', 'min', 'max', 'std'],\n",
    "    'SepalWidthCm': ['mean', 'median', 'min', 'max', 'std'],\n",
    "    'PetalLengthCm': ['mean', 'median', 'min', 'max', 'std'],\n",
    "    'PetalWidthCm': ['mean', 'median', 'min', 'max', 'std']\n",
    "})\n",
    "\n",
    "# Display the summary statistics\n",
    "print(summary_stats)"
   ]
  },
  {
   "cell_type": "markdown",
   "id": "dc311318-6ef7-4c2e-a69f-56e10a947a76",
   "metadata": {},
   "source": [
    "## Observations:\r\n",
    "\r\n",
    "- **Iris-setosa** has the smallest measurements in most attributes, followed by **Iris-versicolor** and then **Iris-virginica**.\r\n",
    "- Petal length and width show a clear distinction between the three species, with **Iris-virginica** having the largest petals, while **Iris-setosa** has the smallest.\r\n",
    "- The sepal width decreases from **Iris-setosa** to **Iris-virginica**, showing a clear variation in the flower characteristics between species.\r\n"
   ]
  },
  {
   "cell_type": "markdown",
   "id": "79fb3e0a-8dcb-47cd-8b5b-cb5042d215ea",
   "metadata": {},
   "source": [
    "**2**.Create a list that contains a numeric value for each response to the categorical variable.\n",
    "**Task 2:** A dictionary `species_data` is created where each key represents a species, and the value is a list containing the numeric values (sepal length, sepal width, etc.) for that species."
   ]
  },
  {
   "cell_type": "code",
   "execution_count": 87,
   "id": "e49400e0-9eaa-439a-aa0e-e17a7d243914",
   "metadata": {},
   "outputs": [
    {
     "name": "stdout",
     "output_type": "stream",
     "text": [
      "Id               0\n",
      "SepalLengthCm    0\n",
      "SepalWidthCm     0\n",
      "PetalLengthCm    0\n",
      "PetalWidthCm     0\n",
      "Species          0\n",
      "dtype: int64\n"
     ]
    }
   ],
   "source": [
    "# Check for missing values in the DataFrame\n",
    "print(df.isnull().sum())\n"
   ]
  },
  {
   "cell_type": "code",
   "execution_count": 113,
   "id": "bd09b8e0-7c59-4b0b-b6e4-39aedb4c4b6c",
   "metadata": {},
   "outputs": [
    {
     "data": {
      "text/plain": [
       "(150, 6)"
      ]
     },
     "execution_count": 113,
     "metadata": {},
     "output_type": "execute_result"
    }
   ],
   "source": [
    "df.shape"
   ]
  },
  {
   "cell_type": "code",
   "execution_count": 115,
   "id": "72efc79c-9038-4ee2-b312-77d6bdf99479",
   "metadata": {},
   "outputs": [
    {
     "data": {
      "text/plain": [
       "array(['Iris-setosa', 'Iris-versicolor', 'Iris-virginica'], dtype=object)"
      ]
     },
     "execution_count": 115,
     "metadata": {},
     "output_type": "execute_result"
    }
   ],
   "source": [
    "df[\"Species\"].unique()"
   ]
  },
  {
   "cell_type": "code",
   "execution_count": 121,
   "id": "23f9b87d-048f-470b-994f-1feaabee9feb",
   "metadata": {},
   "outputs": [
    {
     "name": "stdout",
     "output_type": "stream",
     "text": [
      "Setosa Sepal Lengths: [5.1, 4.9, 4.7, 4.6, 5.0, 5.4, 4.6, 5.0, 4.4, 4.9, 5.4, 4.8, 4.8, 4.3, 5.8, 5.7, 5.4, 5.1, 5.7, 5.1, 5.4, 5.1, 4.6, 5.1, 4.8, 5.0, 5.0, 5.2, 5.2, 4.7, 4.8, 5.4, 5.2, 5.5, 4.9, 5.0, 5.5, 4.9, 4.4, 5.1, 5.0, 4.5, 4.4, 5.0, 5.1, 4.8, 5.1, 4.6, 5.3, 5.0]\n",
      "Versicolor Petal Widths: [1.4, 1.5, 1.5, 1.3, 1.5, 1.3, 1.6, 1.0, 1.3, 1.4, 1.0, 1.5, 1.0, 1.4, 1.3, 1.4, 1.5, 1.0, 1.5, 1.1, 1.8, 1.3, 1.5, 1.2, 1.3, 1.4, 1.4, 1.7, 1.5, 1.0, 1.1, 1.0, 1.2, 1.6, 1.5, 1.6, 1.5, 1.3, 1.3, 1.3, 1.2, 1.4, 1.2, 1.0, 1.3, 1.2, 1.3, 1.3, 1.1, 1.3]\n",
      "Virginica Sepal Widths: [3.3, 2.7, 3.0, 2.9, 3.0, 3.0, 2.5, 2.9, 2.5, 3.6, 3.2, 2.7, 3.0, 2.5, 2.8, 3.2, 3.0, 3.8, 2.6, 2.2, 3.2, 2.8, 2.8, 2.7, 3.3, 3.2, 2.8, 3.0, 2.8, 3.0, 2.8, 3.8, 2.8, 2.8, 2.6, 3.0, 3.4, 3.1, 3.0, 3.1, 3.1, 3.1, 2.7, 3.2, 3.3, 3.0, 2.5, 3.0, 3.4, 3.0]\n"
     ]
    }
   ],
   "source": [
    "# Create separate lists for each feature (sepal/petal length/width) for each Iris species\n",
    "\n",
    "# Sepal Length\n",
    "setosa_sepal_length = df[df['Species'] == 'Iris-setosa']['SepalLengthCm'].tolist()\n",
    "versicolor_sepal_length = df[df['Species'] == 'Iris-versicolor']['SepalLengthCm'].tolist()\n",
    "virginica_sepal_length = df[df['Species'] == 'Iris-virginica']['SepalLengthCm'].tolist()\n",
    "\n",
    "# Sepal Width\n",
    "setosa_sepal_width = df[df['Species'] == 'Iris-setosa']['SepalWidthCm'].tolist()\n",
    "versicolor_sepal_width = df[df['Species'] == 'Iris-versicolor']['SepalWidthCm'].tolist()\n",
    "virginica_sepal_width = df[df['Species'] == 'Iris-virginica']['SepalWidthCm'].tolist()\n",
    "\n",
    "# Petal Length\n",
    "setosa_petal_length = df[df['Species'] == 'Iris-setosa']['PetalLengthCm'].tolist()\n",
    "versicolor_petal_length = df[df['Species'] == 'Iris-versicolor']['PetalLengthCm'].tolist()\n",
    "virginica_petal_length = df[df['Species'] == 'Iris-virginica']['PetalLengthCm'].tolist()\n",
    "\n",
    "# Petal Width\n",
    "setosa_petal_width = df[df['Species'] == 'Iris-setosa']['PetalWidthCm'].tolist()\n",
    "versicolor_petal_width = df[df['Species'] == 'Iris-versicolor']['PetalWidthCm'].tolist()\n",
    "virginica_petal_width = df[df['Species'] == 'Iris-virginica']['PetalWidthCm'].tolist()\n",
    "\n",
    "# Print examples (you can print more as needed)\n",
    "print(\"Setosa Sepal Lengths:\", setosa_sepal_length)\n",
    "print(\"Versicolor Petal Widths:\", versicolor_petal_width)\n",
    "print(\"Virginica Sepal Widths:\", virginica_sepal_width)\n",
    "\n"
   ]
  },
  {
   "cell_type": "code",
   "execution_count": 125,
   "id": "349d7a82-c6a7-482a-af6b-75bed5dce5df",
   "metadata": {},
   "outputs": [
    {
     "name": "stdout",
     "output_type": "stream",
     "text": [
      "Statistical Summary for Iris-setosa:\n",
      "             Id  SepalLengthCm  SepalWidthCm  PetalLengthCm  PetalWidthCm\n",
      "count  50.00000       50.00000     50.000000      50.000000      50.00000\n",
      "mean   25.50000        5.00600      3.418000       1.464000       0.24400\n",
      "std    14.57738        0.35249      0.381024       0.173511       0.10721\n",
      "min     1.00000        4.30000      2.300000       1.000000       0.10000\n",
      "25%    13.25000        4.80000      3.125000       1.400000       0.20000\n",
      "50%    25.50000        5.00000      3.400000       1.500000       0.20000\n",
      "75%    37.75000        5.20000      3.675000       1.575000       0.30000\n",
      "max    50.00000        5.80000      4.400000       1.900000       0.60000\n",
      "\n",
      "Statistical Summary for Iris-versicolor:\n",
      "              Id  SepalLengthCm  SepalWidthCm  PetalLengthCm  PetalWidthCm\n",
      "count   50.00000      50.000000     50.000000      50.000000     50.000000\n",
      "mean    75.50000       5.936000      2.770000       4.260000      1.326000\n",
      "std     14.57738       0.516171      0.313798       0.469911      0.197753\n",
      "min     51.00000       4.900000      2.000000       3.000000      1.000000\n",
      "25%     63.25000       5.600000      2.525000       4.000000      1.200000\n",
      "50%     75.50000       5.900000      2.800000       4.350000      1.300000\n",
      "75%     87.75000       6.300000      3.000000       4.600000      1.500000\n",
      "max    100.00000       7.000000      3.400000       5.100000      1.800000\n",
      "\n",
      "Statistical Summary for Iris-virginica:\n",
      "              Id  SepalLengthCm  SepalWidthCm  PetalLengthCm  PetalWidthCm\n",
      "count   50.00000       50.00000     50.000000      50.000000      50.00000\n",
      "mean   125.50000        6.58800      2.974000       5.552000       2.02600\n",
      "std     14.57738        0.63588      0.322497       0.551895       0.27465\n",
      "min    101.00000        4.90000      2.200000       4.500000       1.40000\n",
      "25%    113.25000        6.22500      2.800000       5.100000       1.80000\n",
      "50%    125.50000        6.50000      3.000000       5.550000       2.00000\n",
      "75%    137.75000        6.90000      3.175000       5.875000       2.30000\n",
      "max    150.00000        7.90000      3.800000       6.900000       2.50000\n"
     ]
    }
   ],
   "source": [
    "\"\"\" Write a Python program to display some basic statistical details like percentile, mean, standard \n",
    "deviation etc. of the species of ‘Iris-setosa’, ‘Iris-versicolor’ and ‘Iris-versicolor’ of iris.csv \n",
    "dataset. \"\"\"\n",
    "# Filter data for each species\n",
    "setosa = df[df['Species'] == 'Iris-setosa']\n",
    "versicolor = df[df['Species'] == 'Iris-versicolor']\n",
    "virginica = df[df['Species'] == 'Iris-virginica']\n",
    "\n",
    "# Display statistical details\n",
    "print(\"Statistical Summary for Iris-setosa:\")\n",
    "print(setosa.describe())  # describe() gives count, mean, std, min, 25%, 50%, 75%, max\n",
    "\n",
    "print(\"\\nStatistical Summary for Iris-versicolor:\")\n",
    "print(versicolor.describe())\n",
    "\n",
    "print(\"\\nStatistical Summary for Iris-virginica:\")\n",
    "print(virginica.describe())"
   ]
  },
  {
   "cell_type": "code",
   "execution_count": null,
   "id": "e8cc2db8-8d41-4261-893d-79b335a94fa2",
   "metadata": {},
   "outputs": [],
   "source": []
  }
 ],
 "metadata": {
  "kernelspec": {
   "display_name": "Python 3 (ipykernel)",
   "language": "python",
   "name": "python3"
  },
  "language_info": {
   "codemirror_mode": {
    "name": "ipython",
    "version": 3
   },
   "file_extension": ".py",
   "mimetype": "text/x-python",
   "name": "python",
   "nbconvert_exporter": "python",
   "pygments_lexer": "ipython3",
   "version": "3.12.4"
  }
 },
 "nbformat": 4,
 "nbformat_minor": 5
}
